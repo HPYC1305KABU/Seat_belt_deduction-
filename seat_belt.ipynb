{
 "cells": [
  {
   "cell_type": "code",
   "execution_count": 2,
   "metadata": {},
   "outputs": [
    {
     "name": "stdout",
     "output_type": "stream",
     "text": [
      "Belt Detected\n",
      "Belt Detected\n",
      "Belt Detected\n"
     ]
    }
   ],
   "source": [
    "import cv2\n",
    "import numpy as np\n",
    "import imutils\n",
    "\n",
    "#Slope of line\n",
    "def Slope(a,b,c,d):\n",
    "    return (d - b)/(c - a)\n",
    "\n",
    "\n",
    "# Reading Image\n",
    "beltframe = cv2.imread(\"001.jpg\")\n",
    "\n",
    "# Resizing The Image\n",
    "beltframe = imutils.resize(beltframe, height=800)\n",
    "\n",
    "#Converting To GrayScale\n",
    "beltgray = cv2.cvtColor(beltframe, cv2.COLOR_BGR2GRAY)\n",
    "\n",
    "# No Belt Detected Yet\n",
    "belt = False\n",
    "\n",
    "# Bluring The Image For Smoothness\n",
    "blur = cv2.blur(beltgray, (1, 1))\n",
    "\n",
    "# Converting Image To Edges\n",
    "edges = cv2.Canny(blur, 50, 400)\n",
    "\n",
    "\n",
    "# Previous Line Slope\n",
    "ps = 0\n",
    "\n",
    "# Previous Line Co-ordinates\n",
    "px1, py1, px2, py2 = 0, 0, 0, 0\n",
    "\n",
    "# Extracting Lines\n",
    "lines = cv2.HoughLinesP(edges, 1, np.pi/270, 30, maxLineGap = 20, minLineLength = 170)\n",
    "\n",
    "# If \"lines\" Is Not Empty\n",
    "if lines is not None:\n",
    "\n",
    "    # Loop line by line\n",
    "    for line in lines:\n",
    "\n",
    "        # Co-ordinates Of Current Line\n",
    "        x1, y1, x2, y2 = line[0]\n",
    "\n",
    "        # Slope Of Current Line\n",
    "        s = Slope(x1,y1,x2,y2)\n",
    "        \n",
    "        # If Current Line's Slope Is Greater Than 0.7 And Less Than 2\n",
    "        if ((abs(s) > 0.7) and (abs (s) < 2)):\n",
    "\n",
    "            # And Previous Line's Slope Is Within 0.7 To 2\n",
    "            if((abs(ps) > 0.7) and (abs(ps) < 2)):\n",
    "\n",
    "                # And Both The Lines Are Not Too Far From Each Other\n",
    "                if(((abs(x1 - px1) > 5) and (abs(x2 - px2) > 5)) or ((abs(y1 - py1) > 5) and (abs(y2 - py2) > 5))):\n",
    "\n",
    "                    # Plot The Lines On \"beltframe\"\n",
    "                    cv2.line(beltframe, (x1, y1), (x2, y2), (0, 0, 255), 3)\n",
    "                    cv2.line(beltframe, (px1, py1), (px2, py2), (0, 0, 255), 3)\n",
    "\n",
    "                    # Belt Is Detected\n",
    "                    print (\"Belt Detected\")\n",
    "                    belt = True\n",
    "\n",
    "        # Otherwise Current Slope Becomes Previous Slope (ps) And Current Line Becomes Previous Line (px1, py1, px2, py2)            \n",
    "        ps = s\n",
    "        px1, py1, px2, py2 = line[0]\n",
    "        \n",
    "                   \n",
    "if belt == False:\n",
    "    print(\"No Seatbelt detected\")\n",
    "\n",
    "# Show The \"beltframe\"\n",
    "# cv2.imshow(\"Seat Belt\", blur)"
   ]
  },
  {
   "cell_type": "code",
   "execution_count": null,
   "metadata": {},
   "outputs": [],
   "source": []
  }
 ],
 "metadata": {
  "kernelspec": {
   "display_name": "Python 3",
   "language": "python",
   "name": "python3"
  },
  "language_info": {
   "codemirror_mode": {
    "name": "ipython",
    "version": 3
   },
   "file_extension": ".py",
   "mimetype": "text/x-python",
   "name": "python",
   "nbconvert_exporter": "python",
   "pygments_lexer": "ipython3",
   "version": "3.7.4"
  }
 },
 "nbformat": 4,
 "nbformat_minor": 4
}
